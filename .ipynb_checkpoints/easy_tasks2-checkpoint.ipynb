{
 "cells": [
  {
   "cell_type": "code",
   "execution_count": 1,
   "metadata": {},
   "outputs": [],
   "source": [
    "#Напишите скрипт, который сумирует все значения в списке lst\n",
    "lst = [0, 1, 1, 2, 3, 5, 8, 13, 21, 34, 55, 89, 144, 233, 377, 610, 987, 1597, 2584, 4181, 6765]"
   ]
  },
  {
   "cell_type": "code",
   "execution_count": 2,
   "metadata": {},
   "outputs": [],
   "source": [
    "#Напишите скрипт, который перемножает все значения в списке lst"
   ]
  },
  {
   "cell_type": "code",
   "execution_count": 3,
   "metadata": {},
   "outputs": [],
   "source": [
    "#Напишите скрипт, который перемножает все значения в списке lst"
   ]
  },
  {
   "cell_type": "code",
   "execution_count": 4,
   "metadata": {},
   "outputs": [],
   "source": [
    "#Напишите скрипт, который выведет самое большое значения в списке lst"
   ]
  },
  {
   "cell_type": "code",
   "execution_count": 5,
   "metadata": {},
   "outputs": [],
   "source": [
    "#Напишите скрипт, который выведет самое маленькое значения в списке lst"
   ]
  },
  {
   "cell_type": "code",
   "execution_count": 6,
   "metadata": {},
   "outputs": [],
   "source": [
    "#Напишите скрипт, который возвращает True если список lst пустой, и False если он не пустой"
   ]
  },
  {
   "cell_type": "code",
   "execution_count": 7,
   "metadata": {},
   "outputs": [],
   "source": [
    "#Напишите скрипт, который проверяет является ли содержимое переменной lst списком"
   ]
  },
  {
   "cell_type": "code",
   "execution_count": 8,
   "metadata": {},
   "outputs": [],
   "source": [
    "#Напишите скрипт, который возвращает только уникальные значения из списка lst"
   ]
  },
  {
   "cell_type": "code",
   "execution_count": 9,
   "metadata": {},
   "outputs": [],
   "source": [
    "#Напишите скрипт, который выводит только только те элементы lst, которые являютяс нечетными числами"
   ]
  },
  {
   "cell_type": "code",
   "execution_count": 10,
   "metadata": {},
   "outputs": [],
   "source": [
    "#Напишите скрипт, который возвращает типы данных для каждого элемента внутри списка nested_list\n",
    "nested_list = [['Михаил', 13, 'Spb', False], ['Михаил', 'Шагане', 'Дмитрий', 'Мария'],12, (56, '44'), True]"
   ]
  },
  {
   "cell_type": "code",
   "execution_count": 11,
   "metadata": {},
   "outputs": [],
   "source": [
    "#Напишите скрипт, который перебирает элементы списка nested_list и возвращает:\n",
    "# 1. порядковый номер элемента\n",
    "# 2. значение элемента"
   ]
  },
  {
   "cell_type": "code",
   "execution_count": 12,
   "metadata": {},
   "outputs": [],
   "source": [
    "#Напишите скрипт, который перебирает элементы списка nested_list и возвращает:\n",
    "# 1. порядковый номер элемента\n",
    "# 2. значение элемента\n",
    "# 3. тип данных элемент"
   ]
  },
  {
   "cell_type": "code",
   "execution_count": 13,
   "metadata": {},
   "outputs": [],
   "source": [
    "#Напишите скрипт, который перебирает элементы списка nested_list и возвращает:\n",
    "# 1. порядковый номер элемента\n",
    "# 2. значение элемента\n",
    "# 3. тип данных элемент\n",
    "#если элемент внутри списка так же является списком - то скрипт должен перебрать и его элементы, вернув порядковый номер, значение и тип\n"
   ]
  },
  {
   "cell_type": "code",
   "execution_count": 14,
   "metadata": {},
   "outputs": [],
   "source": [
    "#Напишите скрипт, который выведет количество элементов в списке strings_list, длинна которых > 2\n",
    "strings_list = ['qwerty', 'xyz', 'aba', '2022', '22']\n"
   ]
  },
  {
   "cell_type": "code",
   "execution_count": 15,
   "metadata": {},
   "outputs": [],
   "source": [
    "#Напишите скрипт, который выведет количество элементов в списке strings_list, длинна которых > 2\n",
    "#и которые начинаются c одного и того же символа"
   ]
  },
  {
   "cell_type": "code",
   "execution_count": 16,
   "metadata": {},
   "outputs": [],
   "source": [
    "# Напишите скрипт, который удаляет последний элемент из списка strings_list, выводит его на экран,\n",
    "# и кладет его в начало списка new_list. В конце, список strings_list должен остаться пустым,\n",
    "# а new_list должен выглядеть как перевернутый список new_list\n",
    "new_list = list()\n"
   ]
  },
  {
   "cell_type": "code",
   "execution_count": 17,
   "metadata": {},
   "outputs": [],
   "source": [
    "#напишите скрипт, который сортирует список unsorted_list по возрастанию второго элемента каждого кортежа\n",
    "\n",
    "unsorted_list =  [(2, 5), (1, 2), (4, 4), (2, 3), (2, 1)]\n",
    "#ожидаемый результат =  [(2, 1), (1, 2), (2, 3), (4, 4), (2, 5)]"
   ]
  },
  {
   "cell_type": "code",
   "execution_count": 18,
   "metadata": {},
   "outputs": [],
   "source": [
    "#Напишите скрипт, который соединяет элементы списка strings_list в одну строку joined_list, с пробеами в качестве разделителя\n",
    "joined_list = str()"
   ]
  },
  {
   "cell_type": "code",
   "execution_count": 19,
   "metadata": {},
   "outputs": [],
   "source": [
    "#Напишите скрипт, который разбирает строку joined_list по буквам в список letters\n",
    "letters = []"
   ]
  },
  {
   "cell_type": "code",
   "execution_count": 20,
   "metadata": {},
   "outputs": [],
   "source": [
    "#Напишите скрипт, который выводит уникальные элементы из списка letters"
   ]
  },
  {
   "cell_type": "code",
   "execution_count": 21,
   "metadata": {},
   "outputs": [],
   "source": [
    "#Напишите скрипт, который формирует словарь letters_count, в котором ключами будет все уникальные значения из списка letters\n",
    "#А значениями то, сколько раз эти значения встерчаются в списке letters\n",
    "letters_count = dict()"
   ]
  },
  {
   "cell_type": "code",
   "execution_count": 22,
   "metadata": {},
   "outputs": [],
   "source": [
    "#Напишите скрипт, который отсортирует словарь letters_count по значению. По убыванию и по возрастанию"
   ]
  },
  {
   "cell_type": "code",
   "execution_count": 23,
   "metadata": {},
   "outputs": [],
   "source": [
    "#Напишите скрипт, который добавит в словарь letters_count пару 'j' : 0\n"
   ]
  },
  {
   "cell_type": "code",
   "execution_count": 24,
   "metadata": {},
   "outputs": [],
   "source": [
    "#Напишите скрипт, который превратит каждый элемент списка teachers в кортеж из 2 значений (по словам) и запишет новый спискок в переменную t_list\n",
    "teachers = ['Миша Санкт-Петербург', 'Шагане Москва', 'Дмитрий Кисловодск', 'Мария Москва', 'Ксения Санкт-Петербург', 'Сергей Лондон']\n",
    "t_list = None\n"
   ]
  },
  {
   "cell_type": "code",
   "execution_count": 25,
   "metadata": {},
   "outputs": [],
   "source": [
    "#Напишите скрипт, который создает словарь names_dict, в качестве ключей в котором будут картежи из списка t_list\n",
    "#а в качестве значений то, сколько раз имя (то есть первый элемент кортежа) встречается в списке names\n",
    "names_dict = dict()\n",
    "names = ['Миша', 'Шагане', 'Миша', 'Миша', 'Дима', 'Ксения', 'Дима', 'Сергей', 'Харитон', 'Харитон', 'Харитон', 'Харитон', 'Миша', 'Мария']"
   ]
  },
  {
   "cell_type": "code",
   "execution_count": 26,
   "metadata": {},
   "outputs": [],
   "source": [
    "#Напишите скрипт, который вернет суммы значений словаря names_dict сгруппированного по второму элементу кортежа из ключа словаря.\n",
    "\n",
    "# ожидаемый результат:\n",
    "# 'Санкт-Петербург' : 4\n",
    "# 'Москва' : 3\n",
    "# 'Лондон' : 1\n",
    "# ..."
   ]
  },
  {
   "cell_type": "code",
   "execution_count": 30,
   "metadata": {},
   "outputs": [],
   "source": [
    "#Напишите скрипт, который возвращает значение словаля staff по ключу 'Dep1'\n",
    "\n",
    "staff = {'Dep1': [{'name': 'Bob', 'job': 'Mgr'},],\n",
    "         'Dep2': [{'name': 'Kim', 'job': 'Dev'},],\n",
    "         'Dep3': [{'name': 'Sam', 'job': 'Dev'},]\n",
    "        }\n"
   ]
  },
  {
   "cell_type": "code",
   "execution_count": null,
   "metadata": {},
   "outputs": [],
   "source": [
    "#Напишите скрипт, который выводит типы данных для каждого значения в словаре staff\n"
   ]
  },
  {
   "cell_type": "code",
   "execution_count": 31,
   "metadata": {},
   "outputs": [],
   "source": [
    "#Напишите скрипт, который добавляет к списку, являющему значением по ключу Dep1 словарь new_employee \n",
    "new_employee = {'name': 'Mary', 'job': 'Dev'}"
   ]
  },
  {
   "cell_type": "code",
   "execution_count": 32,
   "metadata": {},
   "outputs": [],
   "source": [
    "#Напишите скрипт, который выводит словарь с количеством сотрудников с job = 'Dev' в словаре staff\n"
   ]
  },
  {
   "cell_type": "code",
   "execution_count": null,
   "metadata": {},
   "outputs": [],
   "source": [
    "#Напишите скрипт, который возвращает True если в словаре staff есть ключ 'Dep4', и возвращает False если нет"
   ]
  },
  {
   "cell_type": "code",
   "execution_count": null,
   "metadata": {},
   "outputs": [],
   "source": [
    "#Напишите скрипт, который возвращает True если в словаре staff есть ключ 'Dep4', \n",
    "#а если его нет - добавляет такой ключ с значением None\n"
   ]
  }
 ],
 "metadata": {
  "kernelspec": {
   "display_name": "Python 3",
   "language": "python",
   "name": "python3"
  },
  "language_info": {
   "codemirror_mode": {
    "name": "ipython",
    "version": 3
   },
   "file_extension": ".py",
   "mimetype": "text/x-python",
   "name": "python",
   "nbconvert_exporter": "python",
   "pygments_lexer": "ipython3",
   "version": "3.7.3"
  }
 },
 "nbformat": 4,
 "nbformat_minor": 4
}
