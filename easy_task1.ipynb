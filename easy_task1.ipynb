{
 "cells": [
  {
   "cell_type": "code",
   "execution_count": null,
   "metadata": {},
   "outputs": [],
   "source": [
    "#Запишите строку ниже в переменную\n",
    "\"Python -  язык программирования общего назначения. Он отлично подходит для анализа данных.\"\n",
    "\n",
    "my_variable = ?\n",
    "\n",
    "print(my_variable)"
   ]
  },
  {
   "cell_type": "code",
   "execution_count": null,
   "metadata": {},
   "outputs": [],
   "source": [
    "#Создайте строку, состоящую из 1ого, 2ого и 3его символа строки из переменной my_variable. Запишите ее в новую переменную new_variable\n",
    "\n",
    "new_variable = ?\n",
    "\n",
    "print(new_variable)"
   ]
  },
  {
   "cell_type": "code",
   "execution_count": null,
   "metadata": {},
   "outputs": [],
   "source": [
    "#Напишите скрипт, который сравнивает длины значений, записанных в переменные new_variable и my_variable \n",
    "#И выводит True если длина значения my_variable больше длины значения new_variable\n",
    "\n",
    "print(?)"
   ]
  },
  {
   "cell_type": "code",
   "execution_count": null,
   "metadata": {},
   "outputs": [],
   "source": [
    "#Замените все символы (.) в переменной my_variable на символы (!)\n",
    "\n",
    "print(my_variable)"
   ]
  },
  {
   "cell_type": "code",
   "execution_count": null,
   "metadata": {},
   "outputs": [],
   "source": [
    "#Напишите скрипт, который считает количество букв \"о\" в переменной my_variable и записывает это значение в переменную o_count\n",
    "\n",
    "o_count = ?\n",
    "\n",
    "print(o_count)"
   ]
  },
  {
   "cell_type": "code",
   "execution_count": null,
   "metadata": {},
   "outputs": [],
   "source": [
    "#Напишите скрипт, который считает количество букв \"о\" или \"О\" в переменной my_variable и записывает это значение в переменную oO_count.\n",
    "#Сравните значения в переменных oO_count и o_count. Выведете True если значение oO_count больше\n",
    "\n",
    "oO_count = ?\n",
    "print(o_count)\n",
    "print(?>?)"
   ]
  },
  {
   "cell_type": "code",
   "execution_count": null,
   "metadata": {},
   "outputs": [],
   "source": [
    "#Напишите скрипт, который добавляет к значению строки my_variable предложение \"В этой строке N букв \"о\"\n",
    "#Вместо N запишите значение переменной oO_count\n",
    "\n",
    "print(my_variable)"
   ]
  },
  {
   "cell_type": "code",
   "execution_count": null,
   "metadata": {},
   "outputs": [],
   "source": [
    "#Напишите скрипт, который разворачивает строку my_variable и выводит ее задом наперед\n",
    "print(?)"
   ]
  },
  {
   "cell_type": "code",
   "execution_count": null,
   "metadata": {},
   "outputs": [],
   "source": [
    "#Напишите скрипт, который выводит только нечетные по порядковому номеру буквы из переменной my_variable\n",
    "print()"
   ]
  },
  {
   "cell_type": "code",
   "execution_count": null,
   "metadata": {},
   "outputs": [],
   "source": [
    "#Напишите скрипт, который приводит к нижнему регистру значение переменной my_variable\n",
    "print()"
   ]
  },
  {
   "cell_type": "code",
   "execution_count": null,
   "metadata": {},
   "outputs": [],
   "source": [
    "#Напишите скрипт, который приверяет, начинается ли строка из переменной c_variable со слова Python\n",
    "\n",
    "c_variable = \"C++ также является языком программирования общего назначения. C++ придуман в 1983 году\"\n",
    "\n",
    "print()"
   ]
  },
  {
   "cell_type": "code",
   "execution_count": null,
   "metadata": {},
   "outputs": [],
   "source": [
    "#Напишите скрипт, который выводит на каком месте находится точка \".\" в переменной c_variable\n",
    "print()"
   ]
  },
  {
   "cell_type": "code",
   "execution_count": null,
   "metadata": {},
   "outputs": [],
   "source": [
    "#Напишите скрипт, который выводит только второе предложение из переменной c_variable\n",
    "print()"
   ]
  },
  {
   "cell_type": "code",
   "execution_count": null,
   "metadata": {},
   "outputs": [],
   "source": [
    "#Напишите скрипт, который сравнивает каких букв в строке c_variable больше. Кириллических с или латинских с. Регистр значения не имеет\n",
    "\n",
    "print(>)"
   ]
  },
  {
   "cell_type": "code",
   "execution_count": null,
   "metadata": {},
   "outputs": [],
   "source": [
    "#Напишите скрипт, который достает год из строки c_variable, записывает его в переменную n\n",
    "#прибавляет к переменной n число 100 и выводит строку \"в N  году C++ исполнится 100 лет\"\n",
    "#вместо N подставьте значение переменной n\n",
    "\n",
    "print()"
   ]
  },
  {
   "cell_type": "code",
   "execution_count": null,
   "metadata": {},
   "outputs": [],
   "source": [
    "#Напишите скрипт который находит позицию подстроки \"Python\" в переменной my_variable\n",
    "print()"
   ]
  },
  {
   "cell_type": "code",
   "execution_count": null,
   "metadata": {},
   "outputs": [],
   "source": [
    "#Напишите скрипт который находит позицию подстроки \"C++\" в переменной my_variable\n",
    "print()"
   ]
  },
  {
   "cell_type": "code",
   "execution_count": null,
   "metadata": {},
   "outputs": [],
   "source": [
    "#Напишите скрипт который достает из переменной my_variable все, начиная со слова \"C++\" и до первой точки\n",
    "print()"
   ]
  },
  {
   "cell_type": "code",
   "execution_count": null,
   "metadata": {},
   "outputs": [],
   "source": [
    "#Напишите скрипт, который оставит в строке my_variable только символы расположенные на нечетных позициях\n",
    "print()"
   ]
  },
  {
   "cell_type": "code",
   "execution_count": null,
   "metadata": {},
   "outputs": [],
   "source": [
    "#Напишите скрипт который достает высчитывает позицию первой точки в значении переменной my_variable\n",
    "#и выводит True если позиция четная\n",
    "print()\n",
    "\n",
    "\n",
    "#Подсказка. Остаток от деления на 2 у четных чисел всегда равен 0, у нечетных - единице\n",
    "#Подсказка 2. функция приведения bool() превратит к False 0 и в True все что больше нуля"
   ]
  },
  {
   "cell_type": "code",
   "execution_count": null,
   "metadata": {},
   "outputs": [],
   "source": []
  }
 ],
 "metadata": {
  "colab": {
   "name": "Skills_Python_1.1_lesson.ipynb",
   "provenance": []
  },
  "kernelspec": {
   "display_name": "Python 3",
   "language": "python",
   "name": "python3"
  },
  "language_info": {
   "codemirror_mode": {
    "name": "ipython",
    "version": 3
   },
   "file_extension": ".py",
   "mimetype": "text/x-python",
   "name": "python",
   "nbconvert_exporter": "python",
   "pygments_lexer": "ipython3",
   "version": "3.7.3"
  }
 },
 "nbformat": 4,
 "nbformat_minor": 1
}
